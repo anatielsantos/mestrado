{
 "cells": [
  {
   "cell_type": "code",
   "execution_count": null,
   "metadata": {},
   "outputs": [],
   "source": [
    "import os\n",
    "os.environ[\"CUDA_DEVICE_ORDER\"] = \"PCI_BUS_ID\"\n",
    "os.environ[\"CUDA_VISIBLE_DEVICES\"] = \"4\""
   ]
  },
  {
   "cell_type": "code",
   "execution_count": null,
   "metadata": {},
   "outputs": [],
   "source": [
    "import cv2\n",
    "from glob import glob\n",
    "from matplotlib import pyplot"
   ]
  },
  {
   "cell_type": "code",
   "execution_count": null,
   "metadata": {},
   "outputs": [],
   "source": [
    "def resize_image(images, path_save):\n",
    "    print(\"Resizing start\")\n",
    "    for image in images:\n",
    "        img = cv2.imread(image)\n",
    "\n",
    "        name_img = image.split('/')\n",
    "        new_name_img = name_img[-1][0:]\n",
    "\n",
    "        scale_percent = 50\n",
    "        width = int(img.shape[1] * scale_percent / 100)\n",
    "        height = int(img.shape[0] * scale_percent / 100)\n",
    "        dim = (width, height)\n",
    "        img_resized = cv2.resize(img, dim, interpolation = cv2.INTER_AREA)\n",
    "        cv2.imwrite(path_save + new_name_img, img_resized)\n",
    "    print(\"Resizing end\")"
   ]
  },
  {
   "cell_type": "code",
   "execution_count": null,
   "metadata": {},
   "outputs": [],
   "source": [
    "#load images\n",
    "path_src = \"/data/flavio/anatiel/datasets/covid19/B/val/*\"\n",
    "path_save = \"/data/flavio/anatiel/datasets/covid19-256x256/B/val/\"\n",
    "images = glob(path_src)"
   ]
  },
  {
   "cell_type": "code",
   "execution_count": null,
   "metadata": {},
   "outputs": [],
   "source": [
    "resize_image(images, path_save)"
   ]
  },
  {
   "cell_type": "code",
   "execution_count": null,
   "metadata": {},
   "outputs": [],
   "source": [
    "# plot source image\n",
    "#img = cv2.imread(path_save+\"img2_slc142.jpg\")\n",
    "img = cv2.imread(\"/data/flavio/anatiel/datasets/covid19-256x256/covid19-256x256-blur/train/img2_slc142.jpg\")\n",
    "print(img.shape)\n",
    "pyplot.imshow(img, cmap=\"gray\")\n",
    "pyplot.axis('on')\n",
    "pyplot.show()"
   ]
  }
 ],
 "metadata": {
  "kernelspec": {
   "display_name": "anatiel",
   "language": "python",
   "name": "anatiel"
  },
  "language_info": {
   "codemirror_mode": {
    "name": "ipython",
    "version": 3
   },
   "file_extension": ".py",
   "mimetype": "text/x-python",
   "name": "python",
   "nbconvert_exporter": "python",
   "pygments_lexer": "ipython3",
   "version": "3.7.6"
  }
 },
 "nbformat": 4,
 "nbformat_minor": 4
}
