{
 "cells": [
  {
   "cell_type": "code",
   "execution_count": null,
   "metadata": {},
   "outputs": [],
   "source": [
    "import os\n",
    "os.environ[\"CUDA_DEVICE_ORDER\"] = \"PCI_BUS_ID\"\n",
    "os.environ[\"CUDA_VISIBLE_DEVICES\"] = \"4\""
   ]
  },
  {
   "cell_type": "code",
   "execution_count": null,
   "metadata": {},
   "outputs": [],
   "source": [
    "import cv2\n",
    "import numpy as np\n",
    "from glob import glob\n",
    "from matplotlib import pyplot as plt"
   ]
  },
  {
   "cell_type": "code",
   "execution_count": null,
   "metadata": {},
   "outputs": [],
   "source": [
    "def blur_image(images, path_save):\n",
    "    print(\"blurring images\")\n",
    "    for image in images:\n",
    "        img = cv2.imread(image)\n",
    "        \n",
    "        name_img = image.split('/')\n",
    "        new_name_img = name_img[-1][0:]\n",
    "        \n",
    "        img_blur = cv2.blur(img,(10,10))\n",
    "        #img_blur = cv2.GaussianBlur(img,(10,10),cv2.BORDER_DEFAULT) \n",
    "        cv2.imwrite(path_save + new_name_img, img_blur)\n",
    "    print(\"blurring images done\")"
   ]
  },
  {
   "cell_type": "code",
   "execution_count": null,
   "metadata": {},
   "outputs": [],
   "source": [
    "#load images\n",
    "path_src = \"/data/flavio/anatiel/datasets/covid19/A/val/*\"\n",
    "path_save = \"/data/flavio/anatiel/datasets/covid19/A_blur/val/\"\n",
    "images = glob(path_src)"
   ]
  },
  {
   "cell_type": "code",
   "execution_count": null,
   "metadata": {},
   "outputs": [],
   "source": [
    "blur_image(images, path_save)"
   ]
  },
  {
   "cell_type": "code",
   "execution_count": null,
   "metadata": {},
   "outputs": [],
   "source": [
    "img = cv2.imread(path_save+'img2_slc122.jpg')\n",
    "#blur = cv2.blur(img,(5,5))"
   ]
  },
  {
   "cell_type": "code",
   "execution_count": null,
   "metadata": {},
   "outputs": [],
   "source": [
    "print(img)"
   ]
  },
  {
   "cell_type": "code",
   "execution_count": null,
   "metadata": {},
   "outputs": [],
   "source": [
    "plt.imshow(img),plt.title('Blur image')\n",
    "#plt.subplot(121),plt.imshow(img),plt.title('Original')\n",
    "#plt.subplot(122),plt.imshow(blur),plt.title('Blurred')\n",
    "plt.show()"
   ]
  },
  {
   "cell_type": "code",
   "execution_count": null,
   "metadata": {},
   "outputs": [],
   "source": [
    "#img1 = cv2.imread('/data/flavio/anatiel/datasets/covid19/A_blur/train/img2_slc122.jpg')"
   ]
  },
  {
   "cell_type": "code",
   "execution_count": null,
   "metadata": {},
   "outputs": [],
   "source": [
    "#plt.imshow(img1),plt.title('Original image')\n",
    "#plt.show()"
   ]
  }
 ],
 "metadata": {
  "kernelspec": {
   "display_name": "anatiel",
   "language": "python",
   "name": "anatiel"
  },
  "language_info": {
   "codemirror_mode": {
    "name": "ipython",
    "version": 3
   },
   "file_extension": ".py",
   "mimetype": "text/x-python",
   "name": "python",
   "nbconvert_exporter": "python",
   "pygments_lexer": "ipython3",
   "version": "3.7.6"
  }
 },
 "nbformat": 4,
 "nbformat_minor": 4
}
