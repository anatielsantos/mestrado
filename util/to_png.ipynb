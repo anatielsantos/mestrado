{
 "cells": [
  {
   "cell_type": "code",
   "execution_count": null,
   "metadata": {},
   "outputs": [],
   "source": [
    "import numpy as np\n",
    "from PIL import Image\n",
    "from matplotlib import pyplot\n",
    "from glob import glob"
   ]
  },
  {
   "cell_type": "code",
   "execution_count": null,
   "metadata": {},
   "outputs": [],
   "source": [
    "def bin_image(image, path_save):\n",
    "    for image in images:\n",
    "        img = np.array(Image.open(image).convert('L'))\n",
    "        name_img = image.split('/') \n",
    "        new_name_img = name_img[-1][0:-4]\n",
    "\n",
    "        Image.fromarray(np.intc(img)).save(path_save + new_name_img + \".png\")"
   ]
  },
  {
   "cell_type": "code",
   "execution_count": null,
   "metadata": {},
   "outputs": [],
   "source": [
    "#load images\n",
    "path_images = \"/data/flavio/anatiel/datasets/covid19-256x256/val/*\"\n",
    "path_save = \"/data/flavio/anatiel/datasets/covid19-256x256-png/val/\"\n",
    "images = glob(path_images)"
   ]
  },
  {
   "cell_type": "code",
   "execution_count": null,
   "metadata": {},
   "outputs": [],
   "source": [
    "bin_image(images, path_save)"
   ]
  },
  {
   "cell_type": "code",
   "execution_count": null,
   "metadata": {},
   "outputs": [],
   "source": [
    "img = np.array(Image.open(\"/data/flavio/anatiel/datasets/covid19-256x256-png/train/img2_slc130.png\").convert('L'))\n",
    "pyplot.imshow(img, cmap=\"gray\")\n",
    "pyplot.axis('on')\n",
    "pyplot.show()\n",
    "\n",
    "print(\"Max pixel: \",img.max())"
   ]
  }
 ],
 "metadata": {
  "kernelspec": {
   "display_name": "Python 3",
   "language": "python",
   "name": "python3"
  },
  "language_info": {
   "codemirror_mode": {
    "name": "ipython",
    "version": 3
   },
   "file_extension": ".py",
   "mimetype": "text/x-python",
   "name": "python",
   "nbconvert_exporter": "python",
   "pygments_lexer": "ipython3",
   "version": "3.6.5"
  }
 },
 "nbformat": 4,
 "nbformat_minor": 4
}
