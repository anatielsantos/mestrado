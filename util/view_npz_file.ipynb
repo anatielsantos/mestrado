{
 "cells": [
  {
   "cell_type": "code",
   "execution_count": 19,
   "metadata": {
    "id": "6DQH2-jSQE8I"
   },
   "outputs": [],
   "source": [
    "import numpy as np\n",
    "import matplotlib.pyplot as plt"
   ]
  },
  {
   "cell_type": "code",
   "execution_count": 26,
   "metadata": {
    "colab": {
     "base_uri": "https://localhost:8080/",
     "height": 348
    },
    "id": "CLmDY3-qQ2mv",
    "outputId": "e849b2d2-f4c4-43e9-8e85-3594ea2c5cce"
   },
   "outputs": [
    {
     "name": "stdout",
     "output_type": "stream",
     "text": [
      "(330, 544, 544, 1)\n",
      "(330, 544, 544, 1)\n"
     ]
    },
    {
     "data": {
      "image/png": "[encoded data removed]",
      "text/plain": [
       "<Figure size 432x288 with 2 Axes>"
      ]
     },
     "metadata": {
      "needs_background": "light"
     },
     "output_type": "display_data"
    }
   ],
   "source": [
    "def show_preds():\n",
    "    # load array\n",
    "    image = np.load('/home/anatielsantos/mestrado/datasets/dissertacao/bbox/dataset1/images_fold_0.npz', allow_pickle=True)\n",
    "    image_ = image['arr_0']\n",
    "    image__ = np.expand_dims(np.concatenate(image_), axis=-1)\n",
    "    \n",
    "    mask = np.load('/home/anatielsantos/mestrado/datasets/dissertacao/bbox/dataset1/masks_fold_0.npz', allow_pickle=True)\n",
    "    mask_ = mask['arr_0']\n",
    "    mask__ = np.expand_dims(np.concatenate(mask_), axis=-1)\n",
    "\n",
    "    print(image__.shape)\n",
    "    print(mask__.shape)\n",
    "\n",
    "    plt.subplot(1, 2, 1)\n",
    "    plt.imshow(image__[100][:,:,0], cmap='gray')\n",
    "    plt.subplot(1, 2, 2)\n",
    "    plt.imshow(mask__[100][:,:,0], cmap='gray')\n",
    "    \n",
    "\n",
    "    plt.show()\n",
    "\n",
    "if __name__ == \"__main__\":\n",
    "    # predict\n",
    "    # test(w_lung_clahe_last)\n",
    "    \n",
    "    # show\n",
    "    show_preds()"
   ]
  },
  {
   "cell_type": "code",
   "execution_count": null,
   "metadata": {
    "id": "Mr20Bo3rT7rz"
   },
   "outputs": [],
   "source": []
  }
 ],
 "metadata": {
  "colab": {
   "collapsed_sections": [],
   "name": "view_npz_file.ipynb",
   "provenance": []
  },
  "kernelspec": {
   "display_name": "Python 3 (ipykernel)",
   "language": "python",
   "name": "python3"
  },
  "language_info": {
   "codemirror_mode": {
    "name": "ipython",
    "version": 3
   },
   "file_extension": ".py",
   "mimetype": "text/x-python",
   "name": "python",
   "nbconvert_exporter": "python",
   "pygments_lexer": "ipython3",
   "version": "3.8.10"
  }
 },
 "nbformat": 4,
 "nbformat_minor": 1
}
