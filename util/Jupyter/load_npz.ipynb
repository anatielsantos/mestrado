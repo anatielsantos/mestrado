{
 "cells": [
  {
   "cell_type": "code",
   "execution_count": 1,
   "id": "a1c5803a",
   "metadata": {},
   "outputs": [],
   "source": [
    "import numpy as np"
   ]
  },
  {
   "cell_type": "code",
   "execution_count": 2,
   "id": "53f1b23e",
   "metadata": {},
   "outputs": [],
   "source": [
    "def load_images(path):\n",
    "\n",
    "    npz = np.load(path, allow_pickle=True)\n",
    "    npz = npz['arr_0']\n",
    "    \n",
    "    return np.float32(np.expand_dims(np.concatenate(npz), axis=-1))\n",
    "\n",
    "ds = load_images('/home/anatielsantos/mestrado/datasets/dissertacao/final_tests_dis/teste2_dataset2/test_images_exp2_lesion.npz')"
   ]
  },
  {
   "cell_type": "code",
   "execution_count": 3,
   "id": "a38d2866",
   "metadata": {},
   "outputs": [
    {
     "data": {
      "text/plain": [
       "(9, 640, 640, 1)"
      ]
     },
     "execution_count": 3,
     "metadata": {},
     "output_type": "execute_result"
    }
   ],
   "source": [
    "ds.shape"
   ]
  }
 ],
 "metadata": {
  "kernelspec": {
   "display_name": "mestrado",
   "language": "python",
   "name": "mestrado"
  },
  "language_info": {
   "codemirror_mode": {
    "name": "ipython",
    "version": 3
   },
   "file_extension": ".py",
   "mimetype": "text/x-python",
   "name": "python",
   "nbconvert_exporter": "python",
   "pygments_lexer": "ipython3",
   "version": "3.8.5"
  }
 },
 "nbformat": 4,
 "nbformat_minor": 5
}
