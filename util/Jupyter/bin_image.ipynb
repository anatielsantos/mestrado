{
 "cells": [
  {
   "cell_type": "code",
   "execution_count": null,
   "metadata": {},
   "outputs": [],
   "source": [
    "import numpy as np\n",
    "from PIL import Image\n",
    "from matplotlib import pyplot"
   ]
  },
  {
   "cell_type": "code",
   "execution_count": null,
   "metadata": {},
   "outputs": [],
   "source": [
    "def bin_image(image):\n",
    "    #for image in images:\n",
    "    img = np.array(Image.open(image).convert('L'))\n",
    "    #image_bin = img\n",
    "    name_img = image.split('/')\n",
    "    new_name_img = name_img[-1][0:-4]\n",
    "    \n",
    "    im_bin = (img > 128) * 1\n",
    "    print(\"Max pixel: \",im_bin.shape)\n",
    "\n",
    "    #Image.fromarray(np.intc(im_bin)).save(path_save + new_name_img + \".png\")"
   ]
  },
  {
   "cell_type": "code",
   "execution_count": null,
   "metadata": {},
   "outputs": [],
   "source": [
    "image = \"/data/flavio/anatiel/datasets/covid19/B/val/img8_slc194.jpg\""
   ]
  },
  {
   "cell_type": "code",
   "execution_count": null,
   "metadata": {},
   "outputs": [],
   "source": [
    "bin_image(image)"
   ]
  },
  {
   "cell_type": "code",
   "execution_count": null,
   "metadata": {},
   "outputs": [],
   "source": [
    "img = np.array(Image.open(\"/data/flavio/anatiel/datasets/img8_slc194.png\").convert('L'))\n",
    "pyplot.imshow(img, cmap=\"gray\")\n",
    "pyplot.axis('on')\n",
    "pyplot.show()\n",
    "\n",
    "print(\"Max pixel: \",img.shape)"
   ]
  }
 ],
 "metadata": {
  "kernelspec": {
   "display_name": "Python 3",
   "language": "python",
   "name": "python3"
  },
  "language_info": {
   "codemirror_mode": {
    "name": "ipython",
    "version": 3
   },
   "file_extension": ".py",
   "mimetype": "text/x-python",
   "name": "python",
   "nbconvert_exporter": "python",
   "pygments_lexer": "ipython3",
   "version": "3.6.5"
  }
 },
 "nbformat": 4,
 "nbformat_minor": 4
}
